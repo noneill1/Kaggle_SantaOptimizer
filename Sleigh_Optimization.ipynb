{
 "cells": [
  {
   "cell_type": "markdown",
   "metadata": {},
   "source": [
    "Rudolph City Visit Optimization Kaggle Contest"
   ]
  },
  {
   "cell_type": "code",
   "execution_count": 1,
   "metadata": {},
   "outputs": [],
   "source": [
    "import numpy as np\n",
    "import pandas as pd\n",
    "import matplotlib.pyplot as plt"
   ]
  },
  {
   "cell_type": "code",
   "execution_count": 2,
   "metadata": {},
   "outputs": [
    {
     "name": "stdout",
     "output_type": "stream",
     "text": [
      "(197769, 3)\n",
      "   CityId            X            Y\n",
      "0       0   316.836739  2202.340707\n",
      "1       1  4377.405972   336.602082\n",
      "2       2  3454.158198  2820.053011\n",
      "3       3  4688.099298  2935.898056\n",
      "4       4  1010.696952  3236.750989\n",
      "5       5  2474.230877  1435.514651\n",
      "6       6  1029.277795  2721.800952\n",
      "7       7  3408.887685   199.585793\n",
      "8       8  1304.006125  2657.427246\n",
      "9       9  4211.525725  2294.595208\n"
     ]
    }
   ],
   "source": [
    "data = pd.read_csv(\"cities.csv\")\n",
    "print(data.shape)\n",
    "print(data.head(10))"
   ]
  },
  {
   "cell_type": "markdown",
   "metadata": {},
   "source": [
    "New function to figure out numbers are prime"
   ]
  },
  {
   "cell_type": "code",
   "execution_count": null,
   "metadata": {},
   "outputs": [],
   "source": [
    "def is_prime(n):\n",
    "    if n > 2:\n",
    "        i = 2\n",
    "        while i ** 2 <= n:\n",
    "            if n % i:\n",
    "                i += 1\n",
    "            else:\n",
    "                return False\n",
    "    elif n != 2:\n",
    "        return False\n",
    "    return True"
   ]
  },
  {
   "cell_type": "code",
   "execution_count": null,
   "metadata": {},
   "outputs": [],
   "source": [
    "data['Prime'] = data.CityId.apply(is_prime)\n",
    "print(data.head(5))"
   ]
  },
  {
   "cell_type": "code",
   "execution_count": null,
   "metadata": {},
   "outputs": [],
   "source": [
    "def distance_traveled(data,route):\n",
    "    previous_city = route[0]\n",
    "    traveled_distance = 0\n",
    "    penalty_distance = 0\n",
    "    step = 1\n",
    "    for city_number in route[1:]:\n",
    "        next_city = city_number\n",
    "        traveled_distance += np.sqrt((data.X[city_number] - data.X[previous_city])**2 + (data.Y[city_number] - data.Y[previous_city])**2) * (1 + 0.1 * (step % 10 ==0)*int(data.Prime[previous_city]))\n",
    "        # For now no penalties involved\n",
    "        step += 1\n",
    "        previous_city = next_city\n",
    "    return traveled_distance\n"
   ]
  },
  {
   "cell_type": "code",
   "execution_count": 10,
   "metadata": {},
   "outputs": [],
   "source": [
    "route_basic = list(data.CityId[:].append(pd.Series([0])))\n",
    "route_count = route_basic[:-1]"
   ]
  },
  {
   "cell_type": "code",
   "execution_count": null,
   "metadata": {},
   "outputs": [],
   "source": [
    "distance_basic = distance_traveled(data,route_basic)"
   ]
  },
  {
   "cell_type": "code",
   "execution_count": null,
   "metadata": {},
   "outputs": [],
   "source": [
    "print(distance_basic)"
   ]
  },
  {
   "cell_type": "markdown",
   "metadata": {},
   "source": [
    "Distance function seems to be working (at least well enough for testing) \n",
    "Now try to optimize route a little bit more"
   ]
  },
  {
   "cell_type": "markdown",
   "metadata": {},
   "source": [
    "Try sorting things a little bit: Start with just sorting by X and Y"
   ]
  },
  {
   "cell_type": "code",
   "execution_count": null,
   "metadata": {},
   "outputs": [],
   "source": [
    "data_sortedX = data.sort_values(by=['X'])\n",
    "data_sortedY = data.sort_values(by=['Y'])"
   ]
  },
  {
   "cell_type": "code",
   "execution_count": null,
   "metadata": {},
   "outputs": [],
   "source": [
    "route_X_sorted = list(data_sortedX.CityId[:].append(pd.Series([0])))\n",
    "route_Y_sorted = list(data_sortedY.CityId[:].append(pd.Series([0])))"
   ]
  },
  {
   "cell_type": "code",
   "execution_count": null,
   "metadata": {},
   "outputs": [],
   "source": [
    "distance_X_sort = distance_traveled(data,route_X_sorted)\n",
    "distance_Y_sort = distance_traveled(data,route_Y_sorted)\n",
    "# probably have to rework this since 0 isn't first in list, but oh well"
   ]
  },
  {
   "cell_type": "code",
   "execution_count": null,
   "metadata": {},
   "outputs": [],
   "source": [
    "print(\"Basic Order: \", distance_basic)\n",
    "print(\"X Sort:      \",distance_X_sort)\n",
    "print(\"Y Sort:      \",distance_Y_sort)"
   ]
  },
  {
   "cell_type": "markdown",
   "metadata": {},
   "source": [
    "All of the numbers are in the top right quadrant (all positive)\n",
    "Create a third category (distance from origin) and sort by that"
   ]
  },
  {
   "cell_type": "code",
   "execution_count": null,
   "metadata": {},
   "outputs": [],
   "source": [
    "def distance_origin(X,Y):\n",
    "    Z = np.sqrt(X**2 + Y**2)\n",
    "    return Z"
   ]
  },
  {
   "cell_type": "code",
   "execution_count": null,
   "metadata": {},
   "outputs": [],
   "source": [
    "data[\"Z\"] = distance_origin(data.X,data.Y)"
   ]
  },
  {
   "cell_type": "code",
   "execution_count": null,
   "metadata": {},
   "outputs": [],
   "source": [
    "data_sortedZ = data.sort_values(by=['Z'])\n",
    "route_Z_sorted = list(data_sortedZ.CityId[:].append(pd.Series([0])))\n",
    "distance_Z_sort = distance_traveled(data,route_Z_sorted)\n",
    "print(\"Z sort: \", distance_Z_sort)"
   ]
  },
  {
   "cell_type": "markdown",
   "metadata": {},
   "source": [
    "Make a Nearest Neighbors Table for each point (5 each?)"
   ]
  },
  {
   "cell_type": "code",
   "execution_count": null,
   "metadata": {},
   "outputs": [],
   "source": [
    "NN_dist_table = np.ones((len(route_count),5))*200 \n",
    "NN_city_table = np.zeros((len(route_count),5))"
   ]
  },
  {
   "cell_type": "code",
   "execution_count": null,
   "metadata": {},
   "outputs": [],
   "source": [
    "distance = 0\n",
    "for i in route_count:\n",
    "    for j in route_count:\n",
    "        distance = np.sqrt((data.X[i] - data.X[j])**2 + (data.Y[i] - data.Y[j])**2)\n",
    "        if (distance > 0) and (distance < max(NN_dist_table[i,:])):\n",
    "            index = np.argmax(NN_dist_table[i,:], axis = None)\n",
    "            NN_dist_table[i,index] = distance\n",
    "            NN_city_table[i,index] = j\n",
    "    if i % 10 == 0:\n",
    "        print(i)"
   ]
  },
  {
   "cell_type": "code",
   "execution_count": null,
   "metadata": {},
   "outputs": [],
   "source": [
    "print(NN_city_table[0:3,:])"
   ]
  },
  {
   "cell_type": "code",
   "execution_count": null,
   "metadata": {},
   "outputs": [],
   "source": [
    "nearest_5 = np.zeros((len(route_count),5))\n",
    "xy = np.array([data.X.values,data.Y.values]).T\n",
    "for i in route_count:\n",
    "    current_xy = np.array([data.X[i],data.Y[i]])\n",
    "    distances = np.sqrt(((xy - current_xy)**2).sum(-1))\n",
    "    nearest_5[i,] = distances.argsort()[:5]\n",
    "    "
   ]
  },
  {
   "cell_type": "code",
   "execution_count": null,
   "metadata": {},
   "outputs": [],
   "source": []
  }
 ],
 "metadata": {
  "kernelspec": {
   "display_name": "Python 3",
   "language": "python",
   "name": "python3"
  },
  "language_info": {
   "codemirror_mode": {
    "name": "ipython",
    "version": 3
   },
   "file_extension": ".py",
   "mimetype": "text/x-python",
   "name": "python",
   "nbconvert_exporter": "python",
   "pygments_lexer": "ipython3",
   "version": "3.7.0"
  }
 },
 "nbformat": 4,
 "nbformat_minor": 2
}
